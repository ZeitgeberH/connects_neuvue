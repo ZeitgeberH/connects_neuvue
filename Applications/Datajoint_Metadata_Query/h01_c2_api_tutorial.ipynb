{
 "cells": [
  {
   "cell_type": "code",
   "execution_count": null,
   "id": "c7e24f03-b238-4a29-96cd-5e6d96d98f83",
   "metadata": {},
   "outputs": [],
   "source": [
    "from connects_neuvue.h01_c2 import api\n",
    "fetcher = api.API()"
   ]
  },
  {
   "cell_type": "code",
   "execution_count": null,
   "id": "8df44cac-62fe-43d2-838d-a4f15327a7d9",
   "metadata": {},
   "outputs": [],
   "source": [
    "segment_df = fetcher.autoproof_segment_metadata_df()\n",
    "segment_df"
   ]
  },
  {
   "cell_type": "code",
   "execution_count": null,
   "id": "57c2e6d5-3a64-4b54-8d23-24407319d6fa",
   "metadata": {},
   "outputs": [],
   "source": [
    "segment_id = 3748267179\n",
    "G = fetcher.nx_graph_autoproof_from_segment_id(segment_id) \n",
    "G"
   ]
  },
  {
   "cell_type": "code",
   "execution_count": null,
   "id": "698e8311-7154-4aec-bc42-e1678cb57e97",
   "metadata": {},
   "outputs": [],
   "source": [
    "# get a branch-level specific metdata (includes bounding box)\n",
    "G.nodes[\"L4_0\"]"
   ]
  },
  {
   "cell_type": "code",
   "execution_count": null,
   "id": "a7507fef-6801-4d13-8a1e-8044a12931f3",
   "metadata": {},
   "outputs": [],
   "source": [
    "try:\n",
    "    import numpy as np\n",
    "    if not hasattr(np, 'float_'):\n",
    "        np.float_ = np.float64\n",
    "    from neuron_morphology_tools import neuron_nx_utils as nxu\n",
    "except:\n",
    "    raise Exception(\"install neuron_morphology_tools: \\npip3 install git+https://github.com/reimerlab/neuron_morphology_tools.git\")"
   ]
  },
  {
   "cell_type": "code",
   "execution_count": null,
   "id": "2643862b-4856-4989-abd6-9c11753bb72b",
   "metadata": {},
   "outputs": [],
   "source": [
    "nxu.draw_tree(G)"
   ]
  },
  {
   "cell_type": "code",
   "execution_count": null,
   "id": "ccbfcc68-a824-47ac-9bca-6304314c4817",
   "metadata": {},
   "outputs": [],
   "source": []
  }
 ],
 "metadata": {
  "kernelspec": {
   "display_name": "Python 3 (ipykernel)",
   "language": "python",
   "name": "python3"
  },
  "language_info": {
   "codemirror_mode": {
    "name": "ipython",
    "version": 3
   },
   "file_extension": ".py",
   "mimetype": "text/x-python",
   "name": "python",
   "nbconvert_exporter": "python",
   "pygments_lexer": "ipython3",
   "version": "3.10.12"
  }
 },
 "nbformat": 4,
 "nbformat_minor": 5
}
